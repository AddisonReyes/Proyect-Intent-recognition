{
  "nbformat": 4,
  "nbformat_minor": 0,
  "metadata": {
    "colab": {
      "provenance": [],
      "collapsed_sections": [],
      "authorship_tag": "ABX9TyN9t1lU8xjTW8dg2mAzl8v5",
      "include_colab_link": true
    },
    "kernelspec": {
      "name": "python3",
      "display_name": "Python 3"
    },
    "language_info": {
      "name": "python"
    }
  },
  "cells": [
    {
      "cell_type": "markdown",
      "metadata": {
        "id": "view-in-github",
        "colab_type": "text"
      },
      "source": [
        "<a href=\"https://colab.research.google.com/github/aaminrc/Proyect-Intent-recognition/blob/main/ReviewsScrap.ipynb\" target=\"_parent\"><img src=\"https://colab.research.google.com/assets/colab-badge.svg\" alt=\"Open In Colab\"/></a>"
      ]
    },
    {
      "cell_type": "markdown",
      "source": [
        "Proyecto de Intent Recognition\n",
        "Addison Reyes, 2021-2026"
      ],
      "metadata": {
        "id": "XRNP2bYmtnWR"
      }
    },
    {
      "cell_type": "markdown",
      "source": [
        "Todas las librerias usadas en el proyecto"
      ],
      "metadata": {
        "id": "dgACTwGX8SWl"
      }
    },
    {
      "cell_type": "code",
      "source": [
        "pip install langid"
      ],
      "metadata": {
        "colab": {
          "base_uri": "https://localhost:8080/"
        },
        "id": "DNA7LE-FF8RO",
        "outputId": "c0af8b43-e29c-4c5c-9493-0e3d5d9f1585"
      },
      "execution_count": null,
      "outputs": [
        {
          "output_type": "stream",
          "name": "stdout",
          "text": [
            "Looking in indexes: https://pypi.org/simple, https://us-python.pkg.dev/colab-wheels/public/simple/\n",
            "Requirement already satisfied: langid in /usr/local/lib/python3.7/dist-packages (1.1.6)\n",
            "Requirement already satisfied: numpy in /usr/local/lib/python3.7/dist-packages (from langid) (1.21.6)\n"
          ]
        }
      ]
    },
    {
      "cell_type": "code",
      "source": [
        "from sklearn.feature_extraction.text import TfidfVectorizer \n",
        "from sklearn.model_selection import train_test_split\n",
        "from sklearn.linear_model import LogisticRegression\n",
        "from sklearn.ensemble import RandomForestClassifier\n",
        "from sklearn.neighbors import KNeighborsClassifier\n",
        "from sklearn.metrics import classification_report\n",
        "from sklearn.datasets import make_classification\n",
        "from sklearn.tree import DecisionTreeClassifier\n",
        "from sklearn.ensemble import AdaBoostClassifier\n",
        "from sklearn.naive_bayes import MultinomialNB\n",
        "from sklearn.metrics import confusion_matrix\n",
        "from sklearn.naive_bayes import GaussianNB\n",
        "from sklearn.metrics import accuracy_score\n",
        "from nltk.tokenize import sent_tokenize\n",
        "from nltk.tokenize import word_tokenize\n",
        "from nltk.corpus import stopwords\n",
        "from nltk import SnowballStemmer\n",
        "from bs4 import BeautifulSoup\n",
        "from nltk import FreqDist\n",
        "import pandas as pd\n",
        "import numpy as np\n",
        "import requests\n",
        "import langid\n",
        "import string\n",
        "import pickle\n",
        "import nltk\n",
        "import json"
      ],
      "metadata": {
        "id": "CIst15itCo18"
      },
      "execution_count": null,
      "outputs": []
    },
    {
      "cell_type": "code",
      "source": [
        "#Dependencias de nltk necesarias para el proyecto\n",
        "nltk.download('punkt')\n",
        "nltk.download('stopwords')\n",
        "nltk.download('vader_lexicon')"
      ],
      "metadata": {
        "colab": {
          "base_uri": "https://localhost:8080/"
        },
        "id": "x4V1f431Qhn-",
        "outputId": "07a37852-99c5-47e1-b054-bab5725cf697"
      },
      "execution_count": null,
      "outputs": [
        {
          "output_type": "stream",
          "name": "stderr",
          "text": [
            "[nltk_data] Downloading package punkt to /root/nltk_data...\n",
            "[nltk_data]   Package punkt is already up-to-date!\n",
            "[nltk_data] Downloading package stopwords to /root/nltk_data...\n",
            "[nltk_data]   Package stopwords is already up-to-date!\n",
            "[nltk_data] Downloading package vader_lexicon to /root/nltk_data...\n",
            "[nltk_data]   Package vader_lexicon is already up-to-date!\n"
          ]
        },
        {
          "output_type": "execute_result",
          "data": {
            "text/plain": [
              "True"
            ]
          },
          "metadata": {},
          "execution_count": 46
        }
      ]
    },
    {
      "cell_type": "markdown",
      "source": [
        "Web scrapping y recoleccion de toda la data"
      ],
      "metadata": {
        "id": "cWPa8Jxf8guB"
      }
    },
    {
      "cell_type": "code",
      "source": [
        "def pagina_url(pag_num):\n",
        "\turl = 'https://www.metacritic.com/game/xbox-one/cyberpunk-2077/user-reviews?page='\n",
        "\tpag = requests.Session()\n",
        "\tpag.headers['User-Agent'] = 'Mozilla/5.0 (Macintosh; Intel Mac OS X 10_9_2) AppleWebKit/537.36 (KHTML, like Gecko) Chrome/34.0.1847.131 Safari/537.36'\n",
        "\n",
        "\tpagina = pag.get(url + str(pag_num))\n",
        "\t\n",
        "\tsoup = BeautifulSoup(pagina.content, 'html.parser')\n",
        "\treturn soup\n"
      ],
      "metadata": {
        "id": "h0dKyIidCywT"
      },
      "execution_count": null,
      "outputs": []
    },
    {
      "cell_type": "code",
      "source": [
        "lang = ['english']\n",
        "nombres = list()\n",
        "review = list()\n",
        "nota = list()\n",
        "fecha = list()\n",
        "\n",
        "for i in range(0, 19):\n",
        "  soup = pagina_url(i)\n",
        "\n",
        "  nomb = soup.find_all('div', class_=\"name\")\n",
        "  for i in nomb:\n",
        "    nombres.append(i.text)\n",
        "   \n",
        "  revi = soup.find_all('div', class_=\"review_body\")\n",
        "  for i in revi:\n",
        "    review.append(i.text)\n",
        "    \n",
        "  no = soup.find_all('div', class_=\"review_grade\")\n",
        "  for i in no:\n",
        "    nota.append(i.text)\n",
        "    \n",
        "  fech = soup.find_all('div', class_=\"date\")\n",
        "  for i in fech:\n",
        "\t  fecha.append(i.text)"
      ],
      "metadata": {
        "id": "5yqSf7_kDRgD"
      },
      "execution_count": null,
      "outputs": []
    },
    {
      "cell_type": "code",
      "source": [
        "r_nombres = list()\n",
        "r_review = list()\n",
        "r_nota = list()\n",
        "r_fecha = list()\n",
        "\n",
        "for i in range(0, len(nombres)):\n",
        "  lng = langid.classify(review[i])\n",
        "  if lng[0] == \"en\":\n",
        "    r_nombres.append(nombres[i])\n",
        "    r_review.append(review[i].lower())\n",
        "    r_nota.append(nota[i])\n",
        "    r_fecha.append(fecha[i])"
      ],
      "metadata": {
        "id": "LkIgzh4Q_2Oy"
      },
      "execution_count": null,
      "outputs": []
    },
    {
      "cell_type": "markdown",
      "source": [
        "Limpieza de todos los datos y subida a la base de datos"
      ],
      "metadata": {
        "id": "5mHTRCAt8nt_"
      }
    },
    {
      "cell_type": "code",
      "source": [
        "aux_data = np.array([\"\", \"\", \"\", \"\"])\n",
        "\n",
        "pr_datos = list()\n",
        "pr_nota = list()\n",
        "vc_data = list()\n",
        "tokens = list()\n",
        "datos = list()\n",
        "\n",
        "for i in range(0, len(r_nombres)):\n",
        "\taux1 = r_nombres[i]\n",
        "\taux2 = r_review[i]\n",
        "\taux3 = r_nota[i]\n",
        "\taux4 = r_fecha[i]\n",
        "\n",
        "\taux1 = aux1.strip('\\n')\n",
        "\taux2 = aux2.strip('\\n')\n",
        "\taux3 = aux3.strip('\\n')\n",
        "\taux4 = aux4.strip('\\n')\n",
        "\n",
        "\taux1 = aux1.strip('\\t')\n",
        "\taux2 = aux2.strip('\\t')\n",
        "\taux3 = aux3.strip('\\t')\n",
        "\taux4 = aux4.strip('\\t')\n",
        "\taux2 = aux2.replace(\"'\", \"`\")\n",
        "\n",
        "\tlng = langid.classify(aux2)\n",
        "\tif lng[0] == \"en\":\n",
        "\t\tvc_aux = aux2.lower()\n",
        "\t\tpr_aux = aux2.lower()\n",
        "\t\n",
        "\t\tdata = np.array([aux1, aux2, aux3, aux4])\n",
        "\t\t\n",
        "\t\ttokens_aux = word_tokenize(pr_aux)\n",
        "\t\tpr_aux = sent_tokenize(pr_aux)\n",
        "\n",
        "\t\tdatos.append(aux2)\n",
        "\n",
        "\t\ttokens.extend(tokens_aux)\n",
        "\t\tpr_datos.extend(pr_aux)\n",
        "\t\tpr_nota.append(1 if int(aux3) >= 3 else 0)\n",
        "\t\tvc_data.append(vc_aux)"
      ],
      "metadata": {
        "id": "yapbalHpBlNS"
      },
      "execution_count": null,
      "outputs": []
    },
    {
      "cell_type": "code",
      "source": [
        "pr_datos = [token for token in pr_datos if not token.isdigit()]\n",
        "pr_datos = [token for token in pr_datos if not token in string.punctuation]\n",
        "tokens = [token for token in tokens if not token.isdigit()]\n",
        "tokens = [token for token in tokens if not token in string.punctuation]\n",
        "\n",
        "en_stopwords = stopwords.words('english')\n",
        "\t\n",
        "pr_datos = [token for token in pr_datos if token not in en_stopwords]\n",
        "tokens = [token for token in tokens if token not in en_stopwords]\n",
        "\n",
        "for i in lang:\n",
        "\tstemmer = SnowballStemmer(i)\n",
        "\n",
        "\tpr_datos = [stemmer.stem(token) for token in pr_datos]\n",
        "\ttokens = [stemmer.stem(token) for token in tokens]\n",
        "\n",
        "for i in pr_datos:\n",
        "\twhile pr_datos.count(i) > 1:\n",
        "\t\tpr_datos.remove(i)\n",
        "\t\n",
        "for i in tokens:\n",
        "\twhile tokens.count(i) > 1:\n",
        "\t\ttokens.remove(i)"
      ],
      "metadata": {
        "id": "mUlyCeTLrLje"
      },
      "execution_count": null,
      "outputs": []
    },
    {
      "cell_type": "markdown",
      "source": [
        "Vectorizacion de los datos y entrenamiento de modelos"
      ],
      "metadata": {
        "id": "qHK6CBwo8yLg"
      }
    },
    {
      "cell_type": "code",
      "source": [
        "vectorizer = TfidfVectorizer()"
      ],
      "metadata": {
        "id": "JEwZb4DQxMnM"
      },
      "execution_count": null,
      "outputs": []
    },
    {
      "cell_type": "code",
      "source": [
        "x = vectorizer.fit_transform(vc_data)\n",
        "ft_names = vectorizer.get_feature_names()\n",
        "\n",
        "matrix = x.todense()\n",
        "list_dense = matrix.tolist()\n",
        "df = pd.DataFrame(list_dense, columns = ft_names)"
      ],
      "metadata": {
        "id": "LSGOVP0Us1Pb",
        "colab": {
          "base_uri": "https://localhost:8080/"
        },
        "outputId": "656aef3f-f30e-45a1-cad7-c7e2c1d6b1a4"
      },
      "execution_count": null,
      "outputs": [
        {
          "output_type": "stream",
          "name": "stderr",
          "text": [
            "/usr/local/lib/python3.7/dist-packages/sklearn/utils/deprecation.py:87: FutureWarning: Function get_feature_names is deprecated; get_feature_names is deprecated in 1.0 and will be removed in 1.2. Please use get_feature_names_out instead.\n",
            "  warnings.warn(msg, category=FutureWarning)\n"
          ]
        }
      ]
    },
    {
      "cell_type": "markdown",
      "source": [
        "y_val"
      ],
      "metadata": {
        "id": "cCbQE8PMZ1HW"
      }
    },
    {
      "cell_type": "code",
      "source": [
        "x_train, x_val, y_train, y_val = train_test_split(x, pr_nota, train_size = 0.75)\n",
        "#lr = LogisticRegression(C=1)\n",
        "#lr.fit(x_train, y_train)\n",
        "#print(accuracy_score(y_val, lr.predict(x_val)))"
      ],
      "metadata": {
        "id": "4CcWAcADCHFY"
      },
      "execution_count": null,
      "outputs": []
    },
    {
      "cell_type": "code",
      "source": [
        "#KNearest Neighbors Classifier\n",
        "knc = KNeighborsClassifier(n_neighbors=3)\n",
        "knc = knc.fit(x_train, y_train)\n",
        "print(accuracy_score(y_val, knc.predict(x_val)))"
      ],
      "metadata": {
        "colab": {
          "base_uri": "https://localhost:8080/"
        },
        "id": "w0vgA0lg9meY",
        "outputId": "7f99d52f-c72b-4b33-9a79-c9b27f0abad4"
      },
      "execution_count": null,
      "outputs": [
        {
          "output_type": "stream",
          "name": "stdout",
          "text": [
            "0.761437908496732\n"
          ]
        }
      ]
    },
    {
      "cell_type": "code",
      "source": [
        "#Random Forest Classifier\n",
        "rfc = clf = RandomForestClassifier(max_depth=2, random_state=0)\n",
        "rfc = clf.fit(x_train, y_train)\n",
        "print(accuracy_score(y_val, rfc.predict(x_val)))"
      ],
      "metadata": {
        "colab": {
          "base_uri": "https://localhost:8080/"
        },
        "id": "yFx4PpGhA3dy",
        "outputId": "8e8307be-993d-42e7-ca6e-e27b6828cfd8"
      },
      "execution_count": null,
      "outputs": [
        {
          "output_type": "stream",
          "name": "stdout",
          "text": [
            "0.5555555555555556\n"
          ]
        }
      ]
    },
    {
      "cell_type": "code",
      "source": [
        "#Decision Tree Classifier\n",
        "dtc = DecisionTreeClassifier()\n",
        "dtc = dtc.fit(x_train, y_train)\n",
        "print(accuracy_score(y_val, dtc.predict(x_val)))"
      ],
      "metadata": {
        "colab": {
          "base_uri": "https://localhost:8080/"
        },
        "id": "2F9Y7BaSB0Uq",
        "outputId": "0427d154-6a13-4b6e-d450-dc9b814ab8f4"
      },
      "execution_count": null,
      "outputs": [
        {
          "output_type": "stream",
          "name": "stdout",
          "text": [
            "0.7418300653594772\n"
          ]
        }
      ]
    },
    {
      "cell_type": "code",
      "source": [
        "#Naive Bayes Classifier\n",
        "nbc = GaussianNB()\n",
        "nbc = nbc.fit(x_train.toarray(), y_train)\n",
        "print(accuracy_score(y_val, nbc.predict(x_val.toarray())))"
      ],
      "metadata": {
        "colab": {
          "base_uri": "https://localhost:8080/"
        },
        "id": "hYBQjNb6CUNJ",
        "outputId": "de31e600-795b-473c-a062-e44e72b6acd2"
      },
      "execution_count": null,
      "outputs": [
        {
          "output_type": "stream",
          "name": "stdout",
          "text": [
            "0.6274509803921569\n"
          ]
        }
      ]
    },
    {
      "cell_type": "code",
      "source": [
        "#MultinomialNB\n",
        "mnb = MultinomialNB()\n",
        "mnb = mnb.fit(x_train, y_train)\n",
        "print(accuracy_score(y_val, mnb.predict(x_val)))"
      ],
      "metadata": {
        "colab": {
          "base_uri": "https://localhost:8080/"
        },
        "id": "YWtJEaDnD1CZ",
        "outputId": "e7923d9f-08d1-479a-afd5-a9cf442993f6"
      },
      "execution_count": null,
      "outputs": [
        {
          "output_type": "stream",
          "name": "stdout",
          "text": [
            "0.6372549019607843\n"
          ]
        }
      ]
    },
    {
      "cell_type": "code",
      "source": [
        "#AdaBoostClassifier   <--\n",
        "ac = AdaBoostClassifier(n_estimators = 1800, learning_rate = 1)\n",
        "ac = ac.fit(x_train, y_train)\n",
        "print(accuracy_score(y_val, ac.predict(x_val)))"
      ],
      "metadata": {
        "colab": {
          "base_uri": "https://localhost:8080/"
        },
        "id": "FPJscG2jEgJK",
        "outputId": "d887de10-e320-42b7-d818-7dbfbd1656c1"
      },
      "execution_count": null,
      "outputs": [
        {
          "output_type": "stream",
          "name": "stdout",
          "text": [
            "0.8235294117647058\n"
          ]
        }
      ]
    },
    {
      "cell_type": "code",
      "source": [
        "pickle.dump(ac, open('ac.model', mode = 'wb'))\n",
        "pickle.dump(vectorizer, open('vectorizer.model', mode = 'wb'))"
      ],
      "metadata": {
        "id": "BwtYQKpkNjqN"
      },
      "execution_count": null,
      "outputs": []
    },
    {
      "cell_type": "code",
      "source": [
        "y_true = y_val\n",
        "y_pred = ac.predict(x_val)"
      ],
      "metadata": {
        "id": "u145KilHqwQ5"
      },
      "execution_count": null,
      "outputs": []
    },
    {
      "cell_type": "code",
      "source": [
        "cr = classification_report(y_true, y_pred)\n",
        "print(cr)"
      ],
      "metadata": {
        "colab": {
          "base_uri": "https://localhost:8080/"
        },
        "id": "PVbs3GCbYBgo",
        "outputId": "811d2ab3-217b-4efe-d277-81c4c5eda83f"
      },
      "execution_count": null,
      "outputs": [
        {
          "output_type": "stream",
          "name": "stdout",
          "text": [
            "              precision    recall  f1-score   support\n",
            "\n",
            "           0       0.84      0.73      0.78       132\n",
            "           1       0.82      0.89      0.85       174\n",
            "\n",
            "    accuracy                           0.82       306\n",
            "   macro avg       0.83      0.81      0.82       306\n",
            "weighted avg       0.82      0.82      0.82       306\n",
            "\n"
          ]
        }
      ]
    },
    {
      "cell_type": "code",
      "source": [
        "print(confusion_matrix(y_true, y_pred))"
      ],
      "metadata": {
        "colab": {
          "base_uri": "https://localhost:8080/"
        },
        "id": "hhP0k4u1thRV",
        "outputId": "fb217111-a72a-4f51-b9e9-41239f7f7128"
      },
      "execution_count": null,
      "outputs": [
        {
          "output_type": "stream",
          "name": "stdout",
          "text": [
            "[[ 97  35]\n",
            " [ 19 155]]\n"
          ]
        }
      ]
    },
    {
      "cell_type": "markdown",
      "source": [
        "Codigo de la api externa"
      ],
      "metadata": {
        "id": "x_NroyO-9D86"
      }
    },
    {
      "cell_type": "code",
      "source": [
        "import sklearn\n",
        "import pickle\n",
        "\n",
        "if __name__ == '__main__':\n",
        "\tac_mod = pickle.load(open('ac.model', mode = 'rb'))   #red binaria\n",
        "\tvc_mod = pickle.load(open('vectorizer.model', mode = 'rb'))\n",
        "\n",
        "\treview = input(\"Type your review: \")\n",
        "\n",
        "\tpred = ac_mod.predict(vc_mod.transform([review]))\n",
        "\n",
        "\tif pred[0] == 1:\n",
        "\t\tprint(\"Your review is positive \",pred)\n",
        "\telse:\n",
        "\t\tprint(\"Your review is negative \",pred)"
      ],
      "metadata": {
        "colab": {
          "base_uri": "https://localhost:8080/"
        },
        "id": "PAB7w3uaSah7",
        "outputId": "04feb1f0-f0d5-4d34-8f96-1915afa7644c"
      },
      "execution_count": null,
      "outputs": [
        {
          "output_type": "stream",
          "name": "stdout",
          "text": [
            "Type your review: I love this game is very boring\n",
            "Your review is negative  [0]\n"
          ]
        }
      ]
    }
  ]
}